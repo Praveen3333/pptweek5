{
 "cells": [
  {
   "cell_type": "code",
   "execution_count": 1,
   "id": "63732eb8-a51d-4db4-8eee-2323338bef5a",
   "metadata": {},
   "outputs": [
    {
     "name": "stdout",
     "output_type": "stream",
     "text": [
      "[[1, 2], [3, 4]]\n"
     ]
    }
   ],
   "source": [
    "#1\n",
    "def convertTo2DArray(original, m, n):\n",
    "    if m * n != len(original):\n",
    "        return []  # Return an empty 2D array if it is impossible\n",
    "\n",
    "    result = []\n",
    "    index = 0\n",
    "\n",
    "    for i in range(m):\n",
    "        row = []\n",
    "        for j in range(n):\n",
    "            row.append(original[index])\n",
    "            index += 1\n",
    "        result.append(row)\n",
    "\n",
    "    return result\n",
    "original = [1, 2, 3, 4]\n",
    "m = 2\n",
    "n = 2\n",
    "print(convertTo2DArray(original, m, n))\n"
   ]
  },
  {
   "cell_type": "code",
   "execution_count": 2,
   "id": "1d22f774-628a-40cf-a89d-4c24d4a42ceb",
   "metadata": {},
   "outputs": [
    {
     "name": "stdout",
     "output_type": "stream",
     "text": [
      "2\n"
     ]
    }
   ],
   "source": [
    "#2\n",
    "def countCompleteRows(n):\n",
    "    row = 1  \n",
    "    while n >= row:\n",
    "        n -= row \n",
    "        row += 1  \n",
    "    return row - 1  \n",
    "n = 5\n",
    "print(countCompleteRows(n))\n"
   ]
  },
  {
   "cell_type": "code",
   "execution_count": 3,
   "id": "54aa29a6-b484-4b05-93ed-c0f4bac16c7a",
   "metadata": {},
   "outputs": [
    {
     "name": "stdout",
     "output_type": "stream",
     "text": [
      "[0, 1, 9, 16, 100]\n"
     ]
    }
   ],
   "source": [
    "#3\n",
    "def sortedSquares(nums):\n",
    "    # Square each number and store the squared values in a new array\n",
    "    squared_nums = [num ** 2 for num in nums]\n",
    "    \n",
    "    # Sort the squared values in non-decreasing order\n",
    "    squared_nums.sort()\n",
    "    \n",
    "    return squared_nums\n",
    "nums = [-4, -1, 0, 3, 10]\n",
    "print(sortedSquares(nums))\n"
   ]
  },
  {
   "cell_type": "code",
   "execution_count": 4,
   "id": "2e5edf03-6a1d-4009-9364-b52e1c450b3b",
   "metadata": {},
   "outputs": [
    {
     "name": "stdout",
     "output_type": "stream",
     "text": [
      "[[1, 3], [4, 6]]\n"
     ]
    }
   ],
   "source": [
    "#4\n",
    "def findDisappearedNumbers(nums1, nums2):\n",
    "    set1 = set(nums1)\n",
    "    set2 = set(nums2)\n",
    "    \n",
    "    answer = []\n",
    "    answer.append(list(set1 - set2))  # Elements in nums1 but not in nums2\n",
    "    answer.append(list(set2 - set1))  # Elements in nums2 but not in nums1\n",
    "    \n",
    "    return answer\n",
    "nums1 = [1, 2, 3]\n",
    "nums2 = [2, 4, 6]\n",
    "print(findDisappearedNumbers(nums1, nums2))\n"
   ]
  },
  {
   "cell_type": "code",
   "execution_count": 6,
   "id": "ebe22521-a73a-4f16-b732-2966201072cf",
   "metadata": {},
   "outputs": [
    {
     "name": "stdout",
     "output_type": "stream",
     "text": [
      "2\n"
     ]
    }
   ],
   "source": [
    "#5\n",
    "def findDistanceValue(arr1, arr2, d):\n",
    "    distance = 0\n",
    "\n",
    "    for num1 in arr1:\n",
    "        for num2 in arr2:\n",
    "            if abs(num1 - num2) <= d:\n",
    "                break\n",
    "        else:\n",
    "            distance += 1\n",
    "\n",
    "    return distance\n",
    "arr1 = [4, 5, 8]\n",
    "arr2 = [10, 9, 1, 8]\n",
    "d = 2\n",
    "print(findDistanceValue(arr1, arr2, d))"
   ]
  },
  {
   "cell_type": "code",
   "execution_count": 7,
   "id": "c73bd6f4-c3a1-4f09-b2e2-b23342572a25",
   "metadata": {},
   "outputs": [
    {
     "name": "stdout",
     "output_type": "stream",
     "text": [
      "[2, 3]\n"
     ]
    }
   ],
   "source": [
    "#6\n",
    "def findDuplicates(nums):\n",
    "    duplicates = []\n",
    "    \n",
    "    for num in nums:\n",
    "        index = abs(num) - 1\n",
    "        if nums[index] < 0:\n",
    "            duplicates.append(abs(num))\n",
    "        else:\n",
    "            nums[index] = -nums[index]\n",
    "\n",
    "    return duplicates\n",
    "nums = [4, 3, 2, 7, 8, 2, 3, 1]\n",
    "print(findDuplicates(nums))\n"
   ]
  },
  {
   "cell_type": "code",
   "execution_count": 8,
   "id": "bf8544ca-b607-48e6-9b64-70fa367b096b",
   "metadata": {},
   "outputs": [
    {
     "name": "stdout",
     "output_type": "stream",
     "text": [
      "1\n"
     ]
    }
   ],
   "source": [
    "#7\n",
    "def findMin(nums):\n",
    "    left = 0\n",
    "    right = len(nums) - 1\n",
    "\n",
    "    while left < right:\n",
    "        mid = left + (right - left) // 2\n",
    "\n",
    "        if nums[mid] > nums[right]:\n",
    "            left = mid + 1\n",
    "        else:\n",
    "            right = mid\n",
    "\n",
    "    return nums[left]\n",
    "nums = [3, 4, 5, 1, 2]\n",
    "print(findMin(nums))\n"
   ]
  },
  {
   "cell_type": "code",
   "execution_count": 10,
   "id": "915fa8e9-e910-4242-ad4d-250d2389f33f",
   "metadata": {},
   "outputs": [
    {
     "name": "stdout",
     "output_type": "stream",
     "text": [
      "[]\n"
     ]
    }
   ],
   "source": [
    "#8\n",
    "from collections import defaultdict\n",
    "\n",
    "def findOriginalArray(changed):\n",
    "    count = defaultdict(int)\n",
    "    for num in changed:\n",
    "        count[num] += 1\n",
    "    \n",
    "    original = []\n",
    "    for num, cnt in count.items():\n",
    "        if cnt == 0:\n",
    "            continue\n",
    "        if num / 2 in count and count[num / 2] >= cnt:\n",
    "            count[num / 2] -= cnt\n",
    "            if count[num / 2] == 0:\n",
    "                del count[num / 2]\n",
    "            original.extend([num / 2] * cnt)\n",
    "        else:\n",
    "            return []\n",
    "    \n",
    "    return original\n",
    "changed = [1, 3, 4, 2, 6, 8]\n",
    "original = findOriginalArray(changed)\n",
    "print(original)\n"
   ]
  },
  {
   "cell_type": "code",
   "execution_count": null,
   "id": "90e47635-7da1-4166-9afc-b77ad5be8e34",
   "metadata": {},
   "outputs": [],
   "source": []
  }
 ],
 "metadata": {
  "kernelspec": {
   "display_name": "Python 3 (ipykernel)",
   "language": "python",
   "name": "python3"
  },
  "language_info": {
   "codemirror_mode": {
    "name": "ipython",
    "version": 3
   },
   "file_extension": ".py",
   "mimetype": "text/x-python",
   "name": "python",
   "nbconvert_exporter": "python",
   "pygments_lexer": "ipython3",
   "version": "3.10.8"
  }
 },
 "nbformat": 4,
 "nbformat_minor": 5
}
